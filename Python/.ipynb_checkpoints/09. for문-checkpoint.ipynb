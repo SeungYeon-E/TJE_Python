{
 "cells": [
  {
   "cell_type": "markdown",
   "id": "930ebce3",
   "metadata": {},
   "source": [
    "## range 함수\n",
    "range(시작숫자, 끝숫자, 증가값)"
   ]
  },
  {
   "cell_type": "code",
   "execution_count": 1,
   "id": "d1a7acb9",
   "metadata": {},
   "outputs": [
    {
     "data": {
      "text/plain": [
       "range(1, 11)"
      ]
     },
     "execution_count": 1,
     "metadata": {},
     "output_type": "execute_result"
    }
   ],
   "source": [
    "var = range(1, 11)\n",
    "var"
   ]
  },
  {
   "cell_type": "code",
   "execution_count": 2,
   "id": "71b9fadf",
   "metadata": {},
   "outputs": [
    {
     "data": {
      "text/plain": [
       "[1, 2, 3, 4, 5, 6, 7, 8, 9, 10]"
      ]
     },
     "execution_count": 2,
     "metadata": {},
     "output_type": "execute_result"
    }
   ],
   "source": [
    "# range의 범위를 list 로 출력\n",
    "\n",
    "list(range(1, 11))"
   ]
  },
  {
   "cell_type": "code",
   "execution_count": 3,
   "id": "fb8708b4",
   "metadata": {},
   "outputs": [
    {
     "data": {
      "text/plain": [
       "[0, 2, 4, 6, 8, 10]"
      ]
     },
     "execution_count": 3,
     "metadata": {},
     "output_type": "execute_result"
    }
   ],
   "source": [
    "list(range(0, 11, 2))"
   ]
  },
  {
   "cell_type": "code",
   "execution_count": 4,
   "id": "e5223320",
   "metadata": {},
   "outputs": [
    {
     "data": {
      "text/plain": [
       "[10, 8, 6, 4, 2]"
      ]
     },
     "execution_count": 4,
     "metadata": {},
     "output_type": "execute_result"
    }
   ],
   "source": [
    "list(range(10, 0, -2))"
   ]
  },
  {
   "cell_type": "code",
   "execution_count": 5,
   "id": "8143c230",
   "metadata": {},
   "outputs": [
    {
     "data": {
      "text/plain": [
       "[]"
      ]
     },
     "execution_count": 5,
     "metadata": {},
     "output_type": "execute_result"
    }
   ],
   "source": [
    "list(range(0, 10, -2))"
   ]
  },
  {
   "cell_type": "code",
   "execution_count": 6,
   "id": "d4c46715",
   "metadata": {},
   "outputs": [
    {
     "data": {
      "text/plain": [
       "10"
      ]
     },
     "execution_count": 6,
     "metadata": {},
     "output_type": "execute_result"
    }
   ],
   "source": [
    "var[9]"
   ]
  },
  {
   "cell_type": "code",
   "execution_count": 7,
   "id": "05284628",
   "metadata": {},
   "outputs": [
    {
     "data": {
      "text/plain": [
       "range"
      ]
     },
     "execution_count": 7,
     "metadata": {},
     "output_type": "execute_result"
    }
   ],
   "source": [
    "type(var)"
   ]
  },
  {
   "cell_type": "markdown",
   "id": "a96008f7",
   "metadata": {},
   "source": [
    "# for문에 range함수 사용하기"
   ]
  },
  {
   "cell_type": "code",
   "execution_count": 8,
   "id": "ddf1a184",
   "metadata": {},
   "outputs": [
    {
     "name": "stdout",
     "output_type": "stream",
     "text": [
      "1\n",
      "2\n",
      "3\n",
      "4\n",
      "5\n",
      "6\n",
      "7\n",
      "8\n",
      "9\n",
      "10\n"
     ]
    }
   ],
   "source": [
    "for i in range(1, 11):\n",
    "    print(i)"
   ]
  },
  {
   "cell_type": "code",
   "execution_count": 9,
   "id": "4ba8083b",
   "metadata": {},
   "outputs": [
    {
     "name": "stdout",
     "output_type": "stream",
     "text": [
      "0\n",
      "1\n",
      "2\n",
      "3\n",
      "4\n"
     ]
    }
   ],
   "source": [
    "for i in range(5):\n",
    "    print(i)"
   ]
  },
  {
   "cell_type": "code",
   "execution_count": 11,
   "id": "df9dd5bb",
   "metadata": {},
   "outputs": [
    {
     "name": "stdout",
     "output_type": "stream",
     "text": [
      "1\n",
      "3\n",
      "5\n",
      "7\n",
      "9\n"
     ]
    }
   ],
   "source": [
    "# 1부터 10까지의 수중 홀수 만 출력하기\n",
    "for i in range(1,11,2):\n",
    "    print(i)"
   ]
  },
  {
   "cell_type": "code",
   "execution_count": 14,
   "id": "975c6421",
   "metadata": {},
   "outputs": [
    {
     "name": "stdout",
     "output_type": "stream",
     "text": [
      "9 X 1 =  9\n",
      "9 X 2 = 18\n",
      "9 X 3 = 27\n",
      "9 X 4 = 36\n",
      "9 X 5 = 45\n",
      "9 X 6 = 54\n",
      "9 X 7 = 63\n",
      "9 X 8 = 72\n",
      "9 X 9 = 81\n"
     ]
    }
   ],
   "source": [
    "# 구구단 9단 출력\n",
    "\n",
    "j=9\n",
    "\n",
    "for i in range(1,10):\n",
    "    print(j, \"X\", i, '=', '%2d' %(i*j))"
   ]
  },
  {
   "cell_type": "code",
   "execution_count": 15,
   "id": "4ad2135d",
   "metadata": {},
   "outputs": [
    {
     "name": "stdout",
     "output_type": "stream",
     "text": [
      "aaa  bbb\n"
     ]
    }
   ],
   "source": [
    "print('aaa', end = '  ')\n",
    "print('bbb')"
   ]
  },
  {
   "cell_type": "code",
   "execution_count": 19,
   "id": "33aafed3",
   "metadata": {},
   "outputs": [
    {
     "name": "stdout",
     "output_type": "stream",
     "text": [
      " 2   4   6   8  10  12  14  16  18  \n",
      "\n",
      " 3   6   9  12  15  18  21  24  27  \n",
      "\n",
      " 4   8  12  16  20  24  28  32  36  \n",
      "\n",
      " 5  10  15  20  25  30  35  40  45  \n",
      "\n",
      " 6  12  18  24  30  36  42  48  54  \n",
      "\n",
      " 7  14  21  28  35  42  49  56  63  \n",
      "\n",
      " 8  16  24  32  40  48  56  64  72  \n",
      "\n",
      " 9  18  27  36  45  54  63  72  81  \n",
      "\n"
     ]
    }
   ],
   "source": [
    "# 구구단 결과만 출력하기\n",
    "\n",
    "for i in range(2,10):\n",
    "    for j in range(1,10):\n",
    "        print('%2d' %(i*j), end = '  ')\n",
    "    print('\\n')"
   ]
  },
  {
   "cell_type": "markdown",
   "id": "5266116b",
   "metadata": {},
   "source": [
    "# for문에 List사용하기"
   ]
  },
  {
   "cell_type": "code",
   "execution_count": 29,
   "id": "4bb74edb",
   "metadata": {},
   "outputs": [
    {
     "name": "stdout",
     "output_type": "stream",
     "text": [
      "one\n",
      "two\n",
      "three\n"
     ]
    }
   ],
   "source": [
    "test_list = ['one', 'two', 'three']\n",
    "# print(test_list)\n",
    "for i in test_list:\n",
    "    print(i)"
   ]
  },
  {
   "cell_type": "code",
   "execution_count": 24,
   "id": "76ed935c",
   "metadata": {},
   "outputs": [
    {
     "name": "stdout",
     "output_type": "stream",
     "text": [
      "80.75\n"
     ]
    }
   ],
   "source": [
    "# 평균 구하기\n",
    "scores = [78, 85, 95, 65]\n",
    "\n",
    "total = 0\n",
    "for score in scores:\n",
    "    total += score\n",
    "    \n",
    "print(total / len(scores))"
   ]
  },
  {
   "cell_type": "markdown",
   "id": "2044abd0",
   "metadata": {},
   "source": [
    "# for문에 Tuple사용하기"
   ]
  },
  {
   "cell_type": "code",
   "execution_count": 27,
   "id": "35a91ed7",
   "metadata": {},
   "outputs": [
    {
     "name": "stdout",
     "output_type": "stream",
     "text": [
      "1 : 2\n",
      "3 : 4\n",
      "5 : 6\n"
     ]
    }
   ],
   "source": [
    "var = [(1,2), (3,4), (5,6)]\n",
    "\n",
    "for first, last in var:\n",
    "    print(first, \":\", last)"
   ]
  },
  {
   "cell_type": "code",
   "execution_count": 28,
   "id": "38fa405a",
   "metadata": {},
   "outputs": [
    {
     "name": "stdout",
     "output_type": "stream",
     "text": [
      "21\n"
     ]
    }
   ],
   "source": [
    "sum1 = 0\n",
    "for first, last in var:\n",
    "    sum1 += first + last\n",
    "    \n",
    "print(sum1)"
   ]
  },
  {
   "cell_type": "markdown",
   "id": "4c94daf9",
   "metadata": {},
   "source": [
    "총 5명의 학생이 시험을 보았는데, 시험점수가 60점을 넘으로 합격이고,\n",
    "그렇지 않으면 불합격이다.\n",
    "합격, 불합격 결과 보여주기"
   ]
  },
  {
   "cell_type": "code",
   "execution_count": 37,
   "id": "4947949b",
   "metadata": {},
   "outputs": [
    {
     "name": "stdout",
     "output_type": "stream",
     "text": [
      "1 의 학생은 합격입니다.\n",
      "2 의 학생은 불합격입니다.\n",
      "3 의 학생은 합격입니다.\n",
      "4 의 학생은 불합격입니다.\n",
      "5 의 학생은 합격입니다.\n"
     ]
    }
   ],
   "source": [
    "scores = [90, 25, 67, 45, 80]\n",
    "\n",
    "for number in range(len(scores)):\n",
    "    if scores[number] >= 60:\n",
    "        print(number+1, '의 학생은 합격입니다.')\n",
    "    else:\n",
    "        print(number+1, '의 학생은 불합격입니다.')"
   ]
  },
  {
   "cell_type": "code",
   "execution_count": 40,
   "id": "bd93d2e9",
   "metadata": {},
   "outputs": [
    {
     "name": "stdout",
     "output_type": "stream",
     "text": [
      "1의 학생은 합격입니다.\n",
      "2의 학생은 불합격입니다.\n",
      "3의 학생은 합격입니다.\n",
      "4의 학생은 불합격입니다.\n",
      "5의 학생은 합격입니다.\n"
     ]
    }
   ],
   "source": [
    "scores = [90, 25, 67, 45, 80]\n",
    "\n",
    "for number in range(len(scores)):\n",
    "    if scores[number] < 60:\n",
    "        print('%d의 학생은 불합격입니다.' %(number+1))\n",
    "    else:\n",
    "        print('%d의 학생은 합격입니다.' %(number+1))"
   ]
  },
  {
   "cell_type": "code",
   "execution_count": 54,
   "id": "f064ed40",
   "metadata": {},
   "outputs": [
    {
     "name": "stdout",
     "output_type": "stream",
     "text": [
      "1의 학생은 점수가 90이므로 합격입니다.\n",
      "2의 학생은 점수가 25이므로 불합격입니다.\n",
      "3의 학생은 점수가 67이므로 합격입니다.\n",
      "4의 학생은 점수가 45이므로 불합격입니다.\n",
      "5의 학생은 점수가 80이므로 합격입니다.\n"
     ]
    }
   ],
   "source": [
    "scores = [90, 25, 67, 45, 80]\n",
    "number = 1\n",
    "for score in scores:\n",
    "    if score < 60:\n",
    "        print('%d의 학생은 점수가 %d이므로 불합격입니다.' %(number, score))\n",
    "    else:\n",
    "        print('%d의 학생은 점수가 %d이므로 합격입니다.' %(number, score))\n",
    "    number += 1"
   ]
  },
  {
   "cell_type": "markdown",
   "id": "e3c02c6e",
   "metadata": {},
   "source": [
    "학생들 점수의 평균을 구하여 평균점수 기준으로 합격, 불합격 보여주기"
   ]
  },
  {
   "cell_type": "code",
   "execution_count": 63,
   "id": "7a16eec3",
   "metadata": {
    "scrolled": true
   },
   "outputs": [
    {
     "name": "stdout",
     "output_type": "stream",
     "text": [
      "학급의 평균 점수는 61.40 입니다.\n",
      "\n",
      "1의 학생은 점수가 90이므로 합격입니다.\n",
      "2의 학생은 점수가 25이므로 불합격입니다.\n",
      "3의 학생은 점수가 67이므로 합격입니다.\n",
      "4의 학생은 점수가 45이므로 불합격입니다.\n",
      "5의 학생은 점수가 80이므로 합격입니다.\n"
     ]
    }
   ],
   "source": [
    "scores = [90, 25, 67, 45, 80]\n",
    "number = 1 # 학생번호\n",
    "\n",
    "import numpy as np\n",
    "print('학급의 평균 점수는 %.2f 입니다.\\n' %(np.mean(scores)))\n",
    "\n",
    "for score in scores:\n",
    "    if score < 60:\n",
    "        print('%d의 학생은 점수가 %d이므로 불합격입니다.' %(number, score))\n",
    "    else:\n",
    "        print('%d의 학생은 점수가 %d이므로 합격입니다.' %(number, score))\n",
    "    number += 1"
   ]
  },
  {
   "cell_type": "code",
   "execution_count": 72,
   "id": "8fd90c6f",
   "metadata": {},
   "outputs": [
    {
     "name": "stdout",
     "output_type": "stream",
     "text": [
      "학급의 총합 점수는 307.00 입니다.\n",
      "\n",
      "학급의 평균 점수는 61.40 입니다.\n",
      "\n",
      "1의 학생은 점수가 90이므로 합격입니다.\n",
      "2의 학생은 점수가 25이므로 불합격입니다.\n",
      "3의 학생은 점수가 67이므로 합격입니다.\n",
      "4의 학생은 점수가 45이므로 불합격입니다.\n",
      "5의 학생은 점수가 80이므로 합격입니다.\n"
     ]
    }
   ],
   "source": [
    "scores = [90, 25, 67, 45, 80]\n",
    "number = 1 # 학생번호\n",
    "avg = 0.0 # 평균 점수\n",
    "total = 0 # 학생들의 점수 총점\n",
    "\n",
    "import numpy as np\n",
    "print('학급의 총합 점수는 %.2f 입니다.\\n' %(np.sum(scores)))\n",
    "\n",
    "for score in scores:\n",
    "#     total += score\n",
    "    avg = np.sum(scores) / len(scores)\n",
    "print('학급의 평균 점수는 %.2f 입니다.\\n' %(avg))\n",
    "\n",
    "for score in scores:\n",
    "    if score < 60:\n",
    "        print('%d의 학생은 점수가 %d이므로 불합격입니다.' %(number, score))\n",
    "    else:\n",
    "        print('%d의 학생은 점수가 %d이므로 합격입니다.' %(number, score))\n",
    "    number += 1"
   ]
  },
  {
   "cell_type": "code",
   "execution_count": 73,
   "id": "cfb43df3",
   "metadata": {},
   "outputs": [
    {
     "name": "stdout",
     "output_type": "stream",
     "text": [
      "[5, 10, 15, 20]\n"
     ]
    }
   ],
   "source": [
    "var01 = [1,2,3,4]\n",
    "var02 = []\n",
    "\n",
    "for i in var01:\n",
    "    var02.append(i * 5)\n",
    "    \n",
    "print(var02)"
   ]
  },
  {
   "cell_type": "markdown",
   "id": "46ff2353",
   "metadata": {},
   "source": [
    "## 파이썬의 listed for문"
   ]
  },
  {
   "cell_type": "code",
   "execution_count": 74,
   "id": "9acbc423",
   "metadata": {},
   "outputs": [
    {
     "data": {
      "text/plain": [
       "[5, 10, 15, 20]"
      ]
     },
     "execution_count": 74,
     "metadata": {},
     "output_type": "execute_result"
    }
   ],
   "source": [
    "var01 = [1,2,3,4]\n",
    "var02 = []\n",
    "\n",
    "var02 = [i * 5 for i in var01]\n",
    "var02"
   ]
  },
  {
   "cell_type": "code",
   "execution_count": 76,
   "id": "850f4fdd",
   "metadata": {},
   "outputs": [
    {
     "data": {
      "text/plain": [
       "[10, 20]"
      ]
     },
     "execution_count": 76,
     "metadata": {},
     "output_type": "execute_result"
    }
   ],
   "source": [
    "# 위의 소스에서 짝수인 경우에만 5를 곱하는 리스트 만들기\n",
    "\n",
    "var01 = [1,2,3,4]\n",
    "var02 = []\n",
    "\n",
    "var02 = [i * 5 for i in var01 if ((i % 2) == 0)]\n",
    "var02"
   ]
  },
  {
   "cell_type": "code",
   "execution_count": 79,
   "id": "4115b61e",
   "metadata": {},
   "outputs": [
    {
     "name": "stdout",
     "output_type": "stream",
     "text": [
      "[2, 4, 6, 8, 10, 12, 14, 16, 18, 3, 6, 9, 12, 15, 18, 21, 24, 27, 4, 8, 12, 16, 20, 24, 28, 32, 36, 5, 10, 15, 20, 25, 30, 35, 40, 45, 6, 12, 18, 24, 30, 36, 42, 48, 54, 7, 14, 21, 28, 35, 42, 49, 56, 63, 8, 16, 24, 32, 40, 48, 56, 64, 72, 9, 18, 27, 36, 45, 54, 63, 72, 81]\n"
     ]
    }
   ],
   "source": [
    "# 구구단 결과만 리스트로 만들기 (2단 - 9단)\n",
    "\n",
    "var01 = [i * j for i in range(2, 10) for j in range(1, 10)]\n",
    "print(var01)"
   ]
  },
  {
   "cell_type": "code",
   "execution_count": 88,
   "id": "bf88adda",
   "metadata": {},
   "outputs": [
    {
     "name": "stdout",
     "output_type": "stream",
     "text": [
      "[90, 67, 80]\n",
      "합격한 학생들의 평균 점수는 79.00입니다.\n"
     ]
    }
   ],
   "source": [
    "# 60점 이상의 학생점수만 List로 만들어 평균 구하기\n",
    "scores = [90,25,67,45,80]\n",
    "passList = [score for score in scores if score >= 60]\n",
    "print(passList)\n",
    "import numpy as np\n",
    "\n",
    "print(\"합격한 학생들의 평균 점수는 %.2f입니다.\"%np.mean(passList))"
   ]
  },
  {
   "cell_type": "code",
   "execution_count": null,
   "id": "519f1334",
   "metadata": {},
   "outputs": [],
   "source": []
  },
  {
   "cell_type": "code",
   "execution_count": null,
   "id": "cd9c4fa1",
   "metadata": {},
   "outputs": [],
   "source": []
  },
  {
   "cell_type": "code",
   "execution_count": null,
   "id": "a35cdec3",
   "metadata": {},
   "outputs": [],
   "source": []
  },
  {
   "cell_type": "code",
   "execution_count": null,
   "id": "e3cbd40c",
   "metadata": {},
   "outputs": [],
   "source": []
  },
  {
   "cell_type": "code",
   "execution_count": null,
   "id": "d02bc73f",
   "metadata": {},
   "outputs": [],
   "source": []
  },
  {
   "cell_type": "code",
   "execution_count": null,
   "id": "c7d3f888",
   "metadata": {},
   "outputs": [],
   "source": []
  },
  {
   "cell_type": "code",
   "execution_count": null,
   "id": "dc2f9ccf",
   "metadata": {},
   "outputs": [],
   "source": []
  }
 ],
 "metadata": {
  "kernelspec": {
   "display_name": "Python 3",
   "language": "python",
   "name": "python3"
  },
  "language_info": {
   "codemirror_mode": {
    "name": "ipython",
    "version": 3
   },
   "file_extension": ".py",
   "mimetype": "text/x-python",
   "name": "python",
   "nbconvert_exporter": "python",
   "pygments_lexer": "ipython3",
   "version": "3.8.8"
  }
 },
 "nbformat": 4,
 "nbformat_minor": 5
}

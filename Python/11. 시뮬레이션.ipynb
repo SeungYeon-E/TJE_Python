{
 "cells": [
  {
   "cell_type": "markdown",
   "id": "d64dff79",
   "metadata": {},
   "source": [
    "# 몬테카를로 시뮬레이션\n",
    ": 자료가 없을 경우 난수를 통해서 가설 증명"
   ]
  },
  {
   "cell_type": "markdown",
   "id": "3df10eaa",
   "metadata": {},
   "source": [
    "## 동전의 앞면과 뒷면이 나올 확률이 같다는 것을 증명"
   ]
  },
  {
   "cell_type": "code",
   "execution_count": 2,
   "id": "65794468",
   "metadata": {},
   "outputs": [],
   "source": [
    "# 모듈 불러오기\n",
    "import random"
   ]
  },
  {
   "cell_type": "code",
   "execution_count": 3,
   "id": "e2891ab4",
   "metadata": {},
   "outputs": [
    {
     "data": {
      "text/plain": [
       "9"
      ]
     },
     "execution_count": 3,
     "metadata": {},
     "output_type": "execute_result"
    }
   ],
   "source": [
    "random.randint(1,10)"
   ]
  },
  {
   "cell_type": "code",
   "execution_count": 4,
   "id": "5d8d8d56",
   "metadata": {},
   "outputs": [
    {
     "name": "stdout",
     "output_type": "stream",
     "text": [
      "뒷면\n"
     ]
    }
   ],
   "source": [
    "# 난수를 통한 방법\n",
    "x = random.randint(1,2)\n",
    "if x == 1:\n",
    "    result = \"앞면\"\n",
    "else:\n",
    "    result = \"뒷면\"\n",
    "    \n",
    "print(result)"
   ]
  },
  {
   "cell_type": "code",
   "execution_count": 8,
   "id": "d6b4011b",
   "metadata": {},
   "outputs": [],
   "source": [
    "def coinF(n):\n",
    "    coinFront = coinRear = 0\n",
    "    for i in range(1, n+1):\n",
    "        x = random.randint(1,2)\n",
    "        if x == 1:\n",
    "            coinFront += 1\n",
    "        else:\n",
    "            coinRear += 1\n",
    "    print(\"%7d번 시도시 동전의 앞면은 %6d번이고 동전의 뒷면은 %6d번 입니다.\" %(n, coinFront, coinRear))"
   ]
  },
  {
   "cell_type": "code",
   "execution_count": 9,
   "id": "2de537e1",
   "metadata": {},
   "outputs": [
    {
     "name": "stdout",
     "output_type": "stream",
     "text": [
      "     10번 시도시 동전의 앞면은      4번이고 동전의 뒷면은      6번 입니다.\n"
     ]
    }
   ],
   "source": [
    "coinF(10)"
   ]
  },
  {
   "cell_type": "code",
   "execution_count": 11,
   "id": "3ad67dd5",
   "metadata": {},
   "outputs": [
    {
     "name": "stdout",
     "output_type": "stream",
     "text": [
      "     10번 시도시 동전의 앞면은      4번이고 동전의 뒷면은      6번 입니다.\n",
      "    100번 시도시 동전의 앞면은     42번이고 동전의 뒷면은     58번 입니다.\n",
      "   1000번 시도시 동전의 앞면은    524번이고 동전의 뒷면은    476번 입니다.\n",
      "  10000번 시도시 동전의 앞면은   4927번이고 동전의 뒷면은   5073번 입니다.\n",
      " 100000번 시도시 동전의 앞면은  49924번이고 동전의 뒷면은  50076번 입니다.\n",
      "1000000번 시도시 동전의 앞면은 500447번이고 동전의 뒷면은 499553번 입니다.\n"
     ]
    }
   ],
   "source": [
    "coinF(10)\n",
    "coinF(100)\n",
    "coinF(1000)\n",
    "coinF(10000)\n",
    "coinF(100000)\n",
    "coinF(1000000)"
   ]
  },
  {
   "cell_type": "code",
   "execution_count": 12,
   "id": "c46d707c",
   "metadata": {},
   "outputs": [],
   "source": [
    "# 가위, 바위, 보 게임이 이길 확률이 같다는 것을 증명\n",
    "\n",
    "def rock(n):\n",
    "    r = s = p = 0\n",
    "    for i in range(1, n+1):\n",
    "        x = random.randint(1,3)\n",
    "        if x == 1:\n",
    "            r += 1\n",
    "        elif x == 2:\n",
    "            s += 1\n",
    "        else:\n",
    "            p += 1\n",
    "    print(\"%7d번 시도시 가위는 %6d번 이겼고 바위는 %6d번 이겼으며 보는 %6d번 이겼습니다.\" %(n, s, r, p))"
   ]
  },
  {
   "cell_type": "code",
   "execution_count": 13,
   "id": "357f26c4",
   "metadata": {},
   "outputs": [
    {
     "name": "stdout",
     "output_type": "stream",
     "text": [
      "     10번 시도시 가위는      3번 이겼고 바위는      4번 이겼으며 보는      3번 이겼습니다.\n",
      "    100번 시도시 가위는     36번 이겼고 바위는     30번 이겼으며 보는     34번 이겼습니다.\n",
      "   1000번 시도시 가위는    323번 이겼고 바위는    316번 이겼으며 보는    361번 이겼습니다.\n",
      "  10000번 시도시 가위는   3415번 이겼고 바위는   3261번 이겼으며 보는   3324번 이겼습니다.\n",
      " 100000번 시도시 가위는  33354번 이겼고 바위는  33273번 이겼으며 보는  33373번 이겼습니다.\n",
      "1000000번 시도시 가위는 333202번 이겼고 바위는 333561번 이겼으며 보는 333237번 이겼습니다.\n"
     ]
    }
   ],
   "source": [
    "rock(10)\n",
    "rock(100)\n",
    "rock(1000)\n",
    "rock(10000)\n",
    "rock(100000)\n",
    "rock(1000000)"
   ]
  },
  {
   "cell_type": "code",
   "execution_count": null,
   "id": "a312860c",
   "metadata": {},
   "outputs": [],
   "source": []
  },
  {
   "cell_type": "code",
   "execution_count": null,
   "id": "00014c45",
   "metadata": {},
   "outputs": [],
   "source": []
  },
  {
   "cell_type": "code",
   "execution_count": null,
   "id": "a63e1a5b",
   "metadata": {},
   "outputs": [],
   "source": []
  },
  {
   "cell_type": "code",
   "execution_count": null,
   "id": "c044128f",
   "metadata": {},
   "outputs": [],
   "source": []
  },
  {
   "cell_type": "code",
   "execution_count": null,
   "id": "c91f713e",
   "metadata": {},
   "outputs": [],
   "source": []
  },
  {
   "cell_type": "code",
   "execution_count": null,
   "id": "f4602630",
   "metadata": {},
   "outputs": [],
   "source": []
  },
  {
   "cell_type": "code",
   "execution_count": null,
   "id": "d9cf7d88",
   "metadata": {},
   "outputs": [],
   "source": []
  },
  {
   "cell_type": "code",
   "execution_count": null,
   "id": "7da62dcb",
   "metadata": {},
   "outputs": [],
   "source": []
  }
 ],
 "metadata": {
  "kernelspec": {
   "display_name": "Python 3",
   "language": "python",
   "name": "python3"
  },
  "language_info": {
   "codemirror_mode": {
    "name": "ipython",
    "version": 3
   },
   "file_extension": ".py",
   "mimetype": "text/x-python",
   "name": "python",
   "nbconvert_exporter": "python",
   "pygments_lexer": "ipython3",
   "version": "3.8.8"
  }
 },
 "nbformat": 4,
 "nbformat_minor": 5
}

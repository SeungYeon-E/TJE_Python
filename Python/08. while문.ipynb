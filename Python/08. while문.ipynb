{
 "cells": [
  {
   "cell_type": "code",
   "execution_count": 2,
   "id": "9bb1936e",
   "metadata": {},
   "outputs": [],
   "source": [
    "treeHit = 0\n",
    "\n",
    "while treeHit < 10:\n",
    "    treeHit += 1\n",
    "    print(\"나무를 %d번 찍었습니다.\" %treeHit)\n",
    "    if(treeHit == 10):\n",
    "        print(\"나무 넘어 갑니다.\")"
   ]
  },
  {
   "cell_type": "code",
   "execution_count": 3,
   "id": "26ab7aef",
   "metadata": {},
   "outputs": [],
   "source": [
    "prompt = \"\"\"\n",
    "    1. 덧셈\n",
    "    2. 뺄셈\n",
    "    3. 곱셈\n",
    "    4. 나눗셈\n",
    "    5.종료\n",
    "    \n",
    "    숫자를 입력하세요 !\n",
    "\"\"\""
   ]
  },
  {
   "cell_type": "code",
   "execution_count": 4,
   "id": "a6d1a26b",
   "metadata": {},
   "outputs": [
    {
     "name": "stdout",
     "output_type": "stream",
     "text": [
      "\n",
      "    1. 덧셈\n",
      "    2. 뺄셈\n",
      "    3. 곱셈\n",
      "    4. 나눗셈\n",
      "    5.종료\n",
      "    \n",
      "    숫자를 입력하세요 !\n",
      "\n",
      "1\n",
      "\n",
      "    1. 덧셈\n",
      "    2. 뺄셈\n",
      "    3. 곱셈\n",
      "    4. 나눗셈\n",
      "    5.종료\n",
      "    \n",
      "    숫자를 입력하세요 !\n",
      "\n",
      "1\n",
      "\n",
      "    1. 덧셈\n",
      "    2. 뺄셈\n",
      "    3. 곱셈\n",
      "    4. 나눗셈\n",
      "    5.종료\n",
      "    \n",
      "    숫자를 입력하세요 !\n",
      "\n",
      "2\n",
      "\n",
      "    1. 덧셈\n",
      "    2. 뺄셈\n",
      "    3. 곱셈\n",
      "    4. 나눗셈\n",
      "    5.종료\n",
      "    \n",
      "    숫자를 입력하세요 !\n",
      "\n",
      "3\n",
      "\n",
      "    1. 덧셈\n",
      "    2. 뺄셈\n",
      "    3. 곱셈\n",
      "    4. 나눗셈\n",
      "    5.종료\n",
      "    \n",
      "    숫자를 입력하세요 !\n",
      "\n",
      "1\n",
      "\n",
      "    1. 덧셈\n",
      "    2. 뺄셈\n",
      "    3. 곱셈\n",
      "    4. 나눗셈\n",
      "    5.종료\n",
      "    \n",
      "    숫자를 입력하세요 !\n",
      "\n",
      "2\n",
      "\n",
      "    1. 덧셈\n",
      "    2. 뺄셈\n",
      "    3. 곱셈\n",
      "    4. 나눗셈\n",
      "    5.종료\n",
      "    \n",
      "    숫자를 입력하세요 !\n",
      "\n",
      "33\n",
      "\n",
      "    1. 덧셈\n",
      "    2. 뺄셈\n",
      "    3. 곱셈\n",
      "    4. 나눗셈\n",
      "    5.종료\n",
      "    \n",
      "    숫자를 입력하세요 !\n",
      "\n",
      "\n"
     ]
    },
    {
     "ename": "ValueError",
     "evalue": "invalid literal for int() with base 10: ''",
     "output_type": "error",
     "traceback": [
      "\u001b[1;31m---------------------------------------------------------------------------\u001b[0m",
      "\u001b[1;31mValueError\u001b[0m                                Traceback (most recent call last)",
      "\u001b[1;32m<ipython-input-4-af57b999e740>\u001b[0m in \u001b[0;36m<module>\u001b[1;34m\u001b[0m\n\u001b[0;32m      2\u001b[0m \u001b[1;32mwhile\u001b[0m \u001b[0mnumber\u001b[0m \u001b[1;33m!=\u001b[0m \u001b[1;36m5\u001b[0m\u001b[1;33m:\u001b[0m\u001b[1;33m\u001b[0m\u001b[1;33m\u001b[0m\u001b[0m\n\u001b[0;32m      3\u001b[0m     \u001b[0mprint\u001b[0m\u001b[1;33m(\u001b[0m\u001b[0mprompt\u001b[0m\u001b[1;33m)\u001b[0m\u001b[1;33m\u001b[0m\u001b[1;33m\u001b[0m\u001b[0m\n\u001b[1;32m----> 4\u001b[1;33m     \u001b[0mnumber\u001b[0m \u001b[1;33m=\u001b[0m \u001b[0mint\u001b[0m\u001b[1;33m(\u001b[0m\u001b[0minput\u001b[0m\u001b[1;33m(\u001b[0m\u001b[1;33m)\u001b[0m\u001b[1;33m)\u001b[0m\u001b[1;33m\u001b[0m\u001b[1;33m\u001b[0m\u001b[0m\n\u001b[0m",
      "\u001b[1;31mValueError\u001b[0m: invalid literal for int() with base 10: ''"
     ]
    }
   ],
   "source": [
    "number = 0\n",
    "while number != 5:\n",
    "    print(prompt)\n",
    "    number = int(input())"
   ]
  },
  {
   "cell_type": "code",
   "execution_count": 5,
   "id": "3bfd9251",
   "metadata": {},
   "outputs": [
    {
     "name": "stdout",
     "output_type": "stream",
     "text": [
      "0\n",
      "1\n",
      "2\n",
      "3\n",
      "4\n"
     ]
    }
   ],
   "source": [
    "# break문을 사용하여 var가 5인경우 whlie문 빠져 나가기\n",
    "\n",
    "var = 0\n",
    "while var < 10:\n",
    "    print(var)\n",
    "    var += 1\n",
    "    if var == 5:\n",
    "        break"
   ]
  },
  {
   "cell_type": "code",
   "execution_count": 6,
   "id": "1ca90d04",
   "metadata": {},
   "outputs": [
    {
     "name": "stdout",
     "output_type": "stream",
     "text": [
      "1\n",
      "2\n",
      "3\n",
      "4\n",
      "6\n",
      "7\n",
      "8\n",
      "9\n",
      "10\n"
     ]
    }
   ],
   "source": [
    "# continue : 10보다 작은 수중 5인 경우에만 출력 안하고 나머지 숫자는 출력하기\n",
    "\n",
    "var = 0\n",
    "while var < 10:\n",
    "    var += 1\n",
    "    if var == 5:\n",
    "        continue\n",
    "    print(var)"
   ]
  },
  {
   "cell_type": "code",
   "execution_count": 12,
   "id": "510ff55f",
   "metadata": {},
   "outputs": [
    {
     "name": "stdout",
     "output_type": "stream",
     "text": [
      "1\n",
      "3\n",
      "5\n",
      "7\n",
      "9\n"
     ]
    }
   ],
   "source": [
    "# continue문을 사용하여 1~10의 숫자중 홀수만 출력하기\n",
    "\n",
    "var = 0\n",
    "while var < 10:\n",
    "    var += 1\n",
    "    if var % 2 == 0:\n",
    "        continue\n",
    "    print(var)"
   ]
  },
  {
   "cell_type": "code",
   "execution_count": 14,
   "id": "bd738ff9",
   "metadata": {},
   "outputs": [
    {
     "name": "stdout",
     "output_type": "stream",
     "text": [
      "노력\n",
      "우수\n",
      "우수\n",
      "노력\n"
     ]
    }
   ],
   "source": [
    "#  점수가 80점 이상이면 우수, 나머지는 노력으로 출력\n",
    "\n",
    "scores = [78, 85, 95, 65]\n",
    "var = 0\n",
    "while var < len(scores):\n",
    "    if scores[var] >= 80:\n",
    "        print(\"우수\")\n",
    "    else:\n",
    "        print(\"노력\")\n",
    "        \n",
    "#     print(var)\n",
    "    var += 1"
   ]
  },
  {
   "cell_type": "code",
   "execution_count": 17,
   "id": "ea4761b4",
   "metadata": {},
   "outputs": [
    {
     "name": "stdout",
     "output_type": "stream",
     "text": [
      "78\n",
      "85\n",
      "95\n",
      "65\n",
      "[]\n"
     ]
    }
   ],
   "source": [
    "#  점수가 80점 이상이면 우수, 나머지는 노력으로 출력\n",
    "\n",
    "scores = [78, 85, 95, 65]\n",
    "var = 0\n",
    "\n",
    "while scores:\n",
    "    print(scores.pop(var))\n",
    "    \n",
    "print(scores)"
   ]
  },
  {
   "cell_type": "code",
   "execution_count": 22,
   "id": "6bf20f88",
   "metadata": {},
   "outputs": [
    {
     "name": "stdout",
     "output_type": "stream",
     "text": [
      "노력\n",
      "우수\n",
      "우수\n",
      "노력\n"
     ]
    }
   ],
   "source": [
    "#  점수가 80점 이상이면 우수, 나머지는 노력으로 출력\n",
    "\n",
    "scores = [78, 85, 95, 65]\n",
    "var = 0\n",
    "\n",
    "while scores:\n",
    "    score = scores.pop(var)\n",
    "    if score >= 80:\n",
    "        print(\"우수\")\n",
    "    else:\n",
    "        print(\"노력\")"
   ]
  },
  {
   "cell_type": "code",
   "execution_count": 26,
   "id": "4cc9a0c4",
   "metadata": {},
   "outputs": [
    {
     "name": "stdout",
     "output_type": "stream",
     "text": [
      "80.75\n"
     ]
    }
   ],
   "source": [
    "#  평균 구하기\n",
    "\n",
    "scores = [78, 85, 95, 65]\n",
    "\n",
    "list_length = len(scores)\n",
    "total = 0\n",
    "\n",
    "while scores:\n",
    "    total += scores.pop()\n",
    "    \n",
    "print(total / list_length)"
   ]
  },
  {
   "cell_type": "code",
   "execution_count": 27,
   "id": "e3944f64",
   "metadata": {},
   "outputs": [],
   "source": [
    "import numpy as np"
   ]
  },
  {
   "cell_type": "code",
   "execution_count": 28,
   "id": "fd204165",
   "metadata": {},
   "outputs": [
    {
     "data": {
      "text/plain": [
       "80.75"
      ]
     },
     "execution_count": 28,
     "metadata": {},
     "output_type": "execute_result"
    }
   ],
   "source": [
    "#  평균 구하기\n",
    "\n",
    "scores = [78, 85, 95, 65]\n",
    "\n",
    "np.mean(scores)"
   ]
  },
  {
   "cell_type": "code",
   "execution_count": 29,
   "id": "431fafd2",
   "metadata": {},
   "outputs": [],
   "source": [
    "# 표준 편차 : 평균과 각 data의 차이의 제곱한 것의 합의 제곱근을 구한것의 평균\n"
   ]
  },
  {
   "cell_type": "code",
   "execution_count": 33,
   "id": "4ac2eeb8",
   "metadata": {},
   "outputs": [
    {
     "name": "stdout",
     "output_type": "stream",
     "text": [
      "80.75\n",
      "119.1875\n"
     ]
    },
    {
     "data": {
      "text/plain": [
       "10.917302780449024"
      ]
     },
     "execution_count": 33,
     "metadata": {},
     "output_type": "execute_result"
    }
   ],
   "source": [
    "scores = [78, 85, 95, 65]\n",
    "\n",
    "# 평균 구하기\n",
    "total = 0\n",
    "var = 0\n",
    "\n",
    "while var < len(scores):\n",
    "    total += scores[var]\n",
    "    var += 1\n",
    "    \n",
    "avg = total / len(scores)\n",
    "print(avg)\n",
    "\n",
    "# 각 데이터와 평균의 차이의 제곱의 합의 평균 구하기\n",
    "\n",
    "total = 0\n",
    "var = 0\n",
    "\n",
    "while var < len(scores):\n",
    "    total += (scores[var] - avg) ** 2\n",
    "    var += 1\n",
    "    \n",
    "avg = total / len(scores)\n",
    "print(avg)\n",
    "\n",
    "# 위의 계산값에 제곱근을 구하기\n",
    "import math\n",
    "math.sqrt(avg)"
   ]
  },
  {
   "cell_type": "code",
   "execution_count": 34,
   "id": "b7366791",
   "metadata": {},
   "outputs": [
    {
     "data": {
      "text/plain": [
       "10.917302780449024"
      ]
     },
     "execution_count": 34,
     "metadata": {},
     "output_type": "execute_result"
    }
   ],
   "source": [
    "scores = [78, 85, 95, 65]\n",
    "\n",
    "np.std(scores)"
   ]
  },
  {
   "cell_type": "code",
   "execution_count": null,
   "id": "089a2834",
   "metadata": {},
   "outputs": [],
   "source": []
  },
  {
   "cell_type": "code",
   "execution_count": null,
   "id": "421a4ef7",
   "metadata": {},
   "outputs": [],
   "source": []
  },
  {
   "cell_type": "code",
   "execution_count": null,
   "id": "1d98ecb9",
   "metadata": {},
   "outputs": [],
   "source": []
  },
  {
   "cell_type": "code",
   "execution_count": null,
   "id": "dbcc0cc0",
   "metadata": {},
   "outputs": [],
   "source": []
  },
  {
   "cell_type": "code",
   "execution_count": null,
   "id": "fc5ff779",
   "metadata": {},
   "outputs": [],
   "source": []
  }
 ],
 "metadata": {
  "kernelspec": {
   "display_name": "Python 3",
   "language": "python",
   "name": "python3"
  },
  "language_info": {
   "codemirror_mode": {
    "name": "ipython",
    "version": 3
   },
   "file_extension": ".py",
   "mimetype": "text/x-python",
   "name": "python",
   "nbconvert_exporter": "python",
   "pygments_lexer": "ipython3",
   "version": "3.8.8"
  }
 },
 "nbformat": 4,
 "nbformat_minor": 5
}
